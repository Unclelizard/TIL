{
 "cells": [
  {
   "cell_type": "code",
   "execution_count": 92,
   "id": "b23f32e2",
   "metadata": {},
   "outputs": [
    {
     "data": {
      "text/plain": [
       "'bc'"
      ]
     },
     "execution_count": 92,
     "metadata": {},
     "output_type": "execute_result"
    }
   ],
   "source": [
    "\n",
    "def get_middle_char(a):\n",
    "    name = len(a)\n",
    "    if name % 2 == 0:\n",
    "        return a[int(len(a)/2)-1:int(len(a)/2)+1]\n",
    "    else:\n",
    "        return a[int(len(a)/2)]\n",
    "get_middle_char('abcd')"
   ]
  },
  {
   "cell_type": "code",
   "execution_count": 104,
   "id": "d674c708",
   "metadata": {},
   "outputs": [
    {
     "data": {
      "text/plain": [
       "75.0"
      ]
     },
     "execution_count": 104,
     "metadata": {},
     "output_type": "execute_result"
    }
   ],
   "source": [
    "def my_avg(*args):\n",
    "    cnt = 0\n",
    "    sum = 0\n",
    "    for i in args:\n",
    "        sum+=i\n",
    "        cnt+=1\n",
    "    return sum/cnt\n",
    "my_avg(100,50,50,100)"
   ]
  }
 ],
 "metadata": {
  "kernelspec": {
   "display_name": "Python 3 (ipykernel)",
   "language": "python",
   "name": "python3"
  },
  "language_info": {
   "codemirror_mode": {
    "name": "ipython",
    "version": 3
   },
   "file_extension": ".py",
   "mimetype": "text/x-python",
   "name": "python",
   "nbconvert_exporter": "python",
   "pygments_lexer": "ipython3",
   "version": "3.9.9"
  },
  "toc": {
   "base_numbering": 1,
   "nav_menu": {},
   "number_sections": true,
   "sideBar": true,
   "skip_h1_title": false,
   "title_cell": "Table of Contents",
   "title_sidebar": "Contents",
   "toc_cell": false,
   "toc_position": {},
   "toc_section_display": true,
   "toc_window_display": false
  }
 },
 "nbformat": 4,
 "nbformat_minor": 5
}
