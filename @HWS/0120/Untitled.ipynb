{
 "cells": [
  {
   "cell_type": "code",
   "execution_count": 32,
   "id": "e602e62c",
   "metadata": {},
   "outputs": [
    {
     "name": "stdout",
     "output_type": "stream",
     "text": [
      "SsA"
     ]
    }
   ],
   "source": [
    "def get_secret_word(x):\n",
    "    for num in x:\n",
    "        \n",
    "        print(chr(num),end=\"\")\n",
    "        \n",
    "get_secret_word([83,115,65])\n"
   ]
  },
  {
   "cell_type": "code",
   "execution_count": 38,
   "id": "5005d6ea",
   "metadata": {},
   "outputs": [
    {
     "data": {
      "text/plain": [
       "336"
      ]
     },
     "execution_count": 38,
     "metadata": {},
     "output_type": "execute_result"
    }
   ],
   "source": [
    "def get_secret_word(x):\n",
    "    sum=0\n",
    "    for num in x:\n",
    "        sum+=int(ord(num))\n",
    "    return sum\n",
    "        \n",
    "get_secret_word('tom')\n"
   ]
  },
  {
   "cell_type": "code",
   "execution_count": 40,
   "id": "1239b8ef",
   "metadata": {},
   "outputs": [
    {
     "data": {
      "text/plain": [
       "'john'"
      ]
     },
     "execution_count": 40,
     "metadata": {},
     "output_type": "execute_result"
    }
   ],
   "source": [
    "def get_strong_word(x, y):\n",
    "    sumx=0\n",
    "    sumy=0\n",
    "    for num in x:\n",
    "        sumx+=int(ord(num))\n",
    "    for num in y:\n",
    "        sumy+=int(ord(num))\n",
    "    if sumx > sumy:\n",
    "        return x\n",
    "    else:\n",
    "        return y\n",
    "get_strong_word('tom','john')"
   ]
  },
  {
   "cell_type": "code",
   "execution_count": 43,
   "id": "6a8bd928",
   "metadata": {},
   "outputs": [
    {
     "data": {
      "text/plain": [
       "65"
      ]
     },
     "execution_count": 43,
     "metadata": {},
     "output_type": "execute_result"
    }
   ],
   "source": [
    "ord(\"A\")"
   ]
  },
  {
   "cell_type": "code",
   "execution_count": 46,
   "id": "0095f593",
   "metadata": {},
   "outputs": [
    {
     "name": "stdout",
     "output_type": "stream",
     "text": [
      "ABCDEFG\n",
      "1 2 3 4 5 6 7 "
     ]
    }
   ],
   "source": [
    "alphabet = input()\n",
    " \n",
    "for i in alphabet:\n",
    "    answer = ord(i) - 64\n",
    "    print(answer, end=\" \")"
   ]
  },
  {
   "cell_type": "code",
   "execution_count": 55,
   "id": "e60207ee",
   "metadata": {},
   "outputs": [
    {
     "data": {
      "text/plain": [
       "40"
      ]
     },
     "execution_count": 55,
     "metadata": {},
     "output_type": "execute_result"
    }
   ],
   "source": [
    "def list_sum(a):\n",
    "    sumage=0\n",
    "    for dic in a :\n",
    "        for value in dic:\n",
    "            sumage+=dic['age']\n",
    "    sumage = int(sumage/len(dic))\n",
    "                \n",
    "    return sumage    \n",
    "        \n",
    "\n",
    "list_sum([{'name': 'kim', 'age': 12},{'name': 'kim', 'age': 15},{'name':'jeong', 'age':13}])"
   ]
  },
  {
   "cell_type": "code",
   "execution_count": 57,
   "id": "ab0fa0ee",
   "metadata": {},
   "outputs": [
    {
     "data": {
      "text/plain": [
       "40"
      ]
     },
     "execution_count": 57,
     "metadata": {},
     "output_type": "execute_result"
    }
   ],
   "source": [
    "def dict_list_sum(dicts):\n",
    "    age_sum = 0\n",
    "    for dict in dicts :\n",
    "        a = int(dict['age']) # 딕셔너리 안 'age'의 value 값을 int형으로 저장\n",
    "        age_sum += a\n",
    "    return age_sum\n",
    "dict_list_sum([{'name': 'kim', 'age': 12},{'name': 'kim', 'age': 15},{'name':'jeong', 'age':13}])"
   ]
  },
  {
   "cell_type": "code",
   "execution_count": 49,
   "id": "9fd98232",
   "metadata": {},
   "outputs": [
    {
     "data": {
      "text/plain": [
       "'cd'"
      ]
     },
     "execution_count": 49,
     "metadata": {},
     "output_type": "execute_result"
    }
   ],
   "source": [
    "def get_middle_char(a):\n",
    "    name = len(a)\n",
    "    if name % 2 == 0:\n",
    "        return a[int(len(a)/2)-1:int(len(a)/2)+1]\n",
    "    else:\n",
    "        return a[int(len(a)/2)]\n",
    "get_middle_char('abcdef')"
   ]
  }
 ],
 "metadata": {
  "kernelspec": {
   "display_name": "Python 3 (ipykernel)",
   "language": "python",
   "name": "python3"
  },
  "language_info": {
   "codemirror_mode": {
    "name": "ipython",
    "version": 3
   },
   "file_extension": ".py",
   "mimetype": "text/x-python",
   "name": "python",
   "nbconvert_exporter": "python",
   "pygments_lexer": "ipython3",
   "version": "3.9.9"
  },
  "toc": {
   "base_numbering": 1,
   "nav_menu": {},
   "number_sections": true,
   "sideBar": true,
   "skip_h1_title": false,
   "title_cell": "Table of Contents",
   "title_sidebar": "Contents",
   "toc_cell": false,
   "toc_position": {},
   "toc_section_display": true,
   "toc_window_display": false
  }
 },
 "nbformat": 4,
 "nbformat_minor": 5
}
