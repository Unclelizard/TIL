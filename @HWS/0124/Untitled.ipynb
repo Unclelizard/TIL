{
 "cells": [
  {
   "cell_type": "code",
   "execution_count": 48,
   "id": "b9e3197a",
   "metadata": {},
   "outputs": [
    {
     "ename": "IndentationError",
     "evalue": "expected an indented block (3977185258.py, line 6)",
     "output_type": "error",
     "traceback": [
      "\u001b[1;36m  Input \u001b[1;32mIn [48]\u001b[1;36m\u001b[0m\n\u001b[1;33m    print(only_square_area([32,55,63], [13,32,40,55]))\u001b[0m\n\u001b[1;37m    ^\u001b[0m\n\u001b[1;31mIndentationError\u001b[0m\u001b[1;31m:\u001b[0m expected an indented block\n"
     ]
    }
   ],
   "source": [
    "def only_square_area(list):\n",
    "       list.split(',')\n",
    "                \n",
    "                \n",
    "    \n",
    "    \n",
    "    \n",
    "print(only_square_area([32,55,63], [13,32,40,55]))"
   ]
  },
  {
   "cell_type": "code",
   "execution_count": 52,
   "id": "3375238b",
   "metadata": {},
   "outputs": [
    {
     "name": "stdout",
     "output_type": "stream",
     "text": [
      "5\n",
      "1 2 3 4 5\n",
      "10\n"
     ]
    }
   ],
   "source": [
    "T=int(input())\n",
    "lista=list(map(int,input().split()))\n",
    "result=0\n",
    "cnt=1\n",
    "maxvalue=0\n",
    "for i in lista: #i는 1~T+1\n",
    "    if maxvalue > i:\n",
    "        maxvalue = maxvalue\n",
    "    if maxvalue < i:\n",
    "        maxvalue = i #\n",
    "idx=lista.index(maxvalue)#최댓값의 위치\n",
    "n=0\n",
    "while n<idx: #최댓값이 제일 뒤에 있을때.\n",
    "    result+=lista[n]\n",
    "    n += 1\n",
    "Fresult=lista[idx]*n-result\n",
    "print(Fresult)\n",
    "10 7 6 \n",
    "3<4<10 7<8"
   ]
  },
  {
   "cell_type": "code",
   "execution_count": 78,
   "id": "e7c70801",
   "metadata": {},
   "outputs": [
    {
     "name": "stdout",
     "output_type": "stream",
     "text": [
      "apple, Rottenapple\n",
      "['apple, rottenapple']\n"
     ]
    }
   ],
   "source": [
    "a=map(str,input.string())\n",
    "lista=[]\n",
    "for i in a:\n",
    "    if a[i][0:6] == \"ROTTEN\":\n",
    "        lista.append(a[i][6:].lower())\n",
    "    else:\n",
    "        lista.append(a[i].lower())\n",
    "print(lista)"
   ]
  },
  {
   "cell_type": "code",
   "execution_count": null,
   "id": "24a05243",
   "metadata": {},
   "outputs": [],
   "source": []
  }
 ],
 "metadata": {
  "kernelspec": {
   "display_name": "Python 3 (ipykernel)",
   "language": "python",
   "name": "python3"
  },
  "language_info": {
   "codemirror_mode": {
    "name": "ipython",
    "version": 3
   },
   "file_extension": ".py",
   "mimetype": "text/x-python",
   "name": "python",
   "nbconvert_exporter": "python",
   "pygments_lexer": "ipython3",
   "version": "3.9.9"
  },
  "toc": {
   "base_numbering": 1,
   "nav_menu": {},
   "number_sections": true,
   "sideBar": true,
   "skip_h1_title": false,
   "title_cell": "Table of Contents",
   "title_sidebar": "Contents",
   "toc_cell": false,
   "toc_position": {},
   "toc_section_display": true,
   "toc_window_display": false
  }
 },
 "nbformat": 4,
 "nbformat_minor": 5
}
