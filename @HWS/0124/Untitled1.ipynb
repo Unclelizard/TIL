{
 "cells": [
  {
   "cell_type": "code",
   "execution_count": null,
   "id": "7006e62f",
   "metadata": {},
   "outputs": [],
   "source": [
    "get_dict_avg(dic):\n",
    "    dic.values()\n",
    "    \n",
    "    \n",
    "    \n",
    "get_dict_avg({'python':80,'algorithm':90,'django':89,'web':83})    "
   ]
  },
  {
   "cell_type": "code",
   "execution_count": 2,
   "id": "2d07cc80",
   "metadata": {},
   "outputs": [
    {
     "data": {
      "text/plain": [
       "{'A': 4, 'B': 3, 'O': 3, 'AB': 3}"
      ]
     },
     "execution_count": 2,
     "metadata": {},
     "output_type": "execute_result"
    }
   ],
   "source": [
    "def count_blood(abcab):\n",
    "    resultdic={}\n",
    "    resultdic['A']= abcab.count('A')\n",
    "    resultdic['B']= abcab.count('B')\n",
    "    resultdic.update(O=abcab.count('O'))\n",
    "    resultdic.update(AB=abcab.count('AB'))\n",
    "    return resultdic\n",
    "    \n",
    "    \n",
    "count_blood(['A','B','A','O','AB','AB','O','A','A','B','O','B','AB'])"
   ]
  },
  {
   "cell_type": "code",
   "execution_count": 13,
   "id": "2e9da635",
   "metadata": {},
   "outputs": [
    {
     "name": "stdout",
     "output_type": "stream",
     "text": [
      "3 5 7\n"
     ]
    },
    {
     "ename": "ValueError",
     "evalue": "invalid literal for int() with base 10: '3 5 7'",
     "output_type": "error",
     "traceback": [
      "\u001b[1;31m---------------------------------------------------------------------------\u001b[0m",
      "\u001b[1;31mValueError\u001b[0m                                Traceback (most recent call last)",
      "Input \u001b[1;32mIn [13]\u001b[0m, in \u001b[0;36m<module>\u001b[1;34m\u001b[0m\n\u001b[1;32m----> 1\u001b[0m T\u001b[38;5;241m=\u001b[39m\u001b[38;5;28;43mint\u001b[39;49m\u001b[43m(\u001b[49m\u001b[38;5;28;43minput\u001b[39;49m\u001b[43m(\u001b[49m\u001b[43m)\u001b[49m\u001b[43m)\u001b[49m\n\u001b[0;32m      2\u001b[0m \u001b[38;5;28;01mfor\u001b[39;00m number \u001b[38;5;129;01min\u001b[39;00m \u001b[38;5;28mrange\u001b[39m(T\u001b[38;5;241m+\u001b[39m\u001b[38;5;241m1\u001b[39m):\n\u001b[0;32m      3\u001b[0m     listT\u001b[38;5;241m=\u001b[39m\u001b[38;5;28mlist\u001b[39m(\u001b[38;5;28mmap\u001b[39m(\u001b[38;5;28mint\u001b[39m,\u001b[38;5;28minput\u001b[39m()\u001b[38;5;241m.\u001b[39msplit()))\n",
      "\u001b[1;31mValueError\u001b[0m: invalid literal for int() with base 10: '3 5 7'"
     ]
    }
   ],
   "source": [
    "T=int(input())\n",
    "for number in range(T+1):\n",
    "    listT=list(map(int,input().split()))\n",
    "    sum=0\n",
    "    for i in listT:\n",
    "        if i % 2 ==1:\n",
    "            sum+=i\n",
    "print(\"#\"+T,sum)\n"
   ]
  },
  {
   "cell_type": "code",
   "execution_count": null,
   "id": "3ddbefab",
   "metadata": {
    "scrolled": true
   },
   "outputs": [
    {
     "name": "stdout",
     "output_type": "stream",
     "text": [
      "3\n",
      "3\n",
      "1 3 5\n",
      "#1 6\n"
     ]
    }
   ],
   "source": [
    "#기본적 로직은 증가하는지 감소하는지...\n",
    "#\n",
    "# a1=>구매하지않는다.\n",
    "#a1+a2가 a3보다 작다면? 매입하고 A3에서 A1+a2값을 뺀다.\n",
    "#들어오는 값들을 우선 리스트로 만든다.\n",
    "T=int(input())\n",
    "for c in range(1,T+1):    \n",
    "    T=int(input())\n",
    "    lista=list(map(int,input().split()))\n",
    "    result=0\n",
    "    cnt=1\n",
    "    maxvalue=0\n",
    "    for i in lista[::-1]: #i는 1~T+1\n",
    "        if maxvalue > i:\n",
    "            maxvalue = maxvalue\n",
    "            benefit=maxvalue-i\n",
    "            result+=benefit\n",
    "        if maxvalue < i:\n",
    "            maxvalue = i\n",
    "    print(\"#\"+str(c), str(result))\n",
    "    "
   ]
  },
  {
   "cell_type": "code",
   "execution_count": null,
   "id": "642a162c",
   "metadata": {},
   "outputs": [],
   "source": []
  },
  {
   "cell_type": "code",
   "execution_count": null,
   "id": "98048c32",
   "metadata": {},
   "outputs": [],
   "source": []
  },
  {
   "cell_type": "code",
   "execution_count": null,
   "id": "4e7b0ab0",
   "metadata": {},
   "outputs": [],
   "source": [
    "def lonely(x):\n",
    "    for i in x:\n",
    "        if i == i+1:\n",
    "        x.pop(i+1)\n",
    "print(x)\n",
    "    \n",
    "    \n",
    "lonely([1,1,3,3,0,1,1])    "
   ]
  },
  {
   "cell_type": "code",
   "execution_count": null,
   "id": "950bf892",
   "metadata": {},
   "outputs": [],
   "source": []
  }
 ],
 "metadata": {
  "kernelspec": {
   "display_name": "Python 3 (ipykernel)",
   "language": "python",
   "name": "python3"
  },
  "language_info": {
   "codemirror_mode": {
    "name": "ipython",
    "version": 3
   },
   "file_extension": ".py",
   "mimetype": "text/x-python",
   "name": "python",
   "nbconvert_exporter": "python",
   "pygments_lexer": "ipython3",
   "version": "3.9.9"
  },
  "toc": {
   "base_numbering": 1,
   "nav_menu": {},
   "number_sections": true,
   "sideBar": true,
   "skip_h1_title": false,
   "title_cell": "Table of Contents",
   "title_sidebar": "Contents",
   "toc_cell": false,
   "toc_position": {},
   "toc_section_display": true,
   "toc_window_display": false
  }
 },
 "nbformat": 4,
 "nbformat_minor": 5
}
