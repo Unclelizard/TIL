{
 "cells": [
  {
   "cell_type": "markdown",
   "metadata": {},
   "source": [
    "# Practice 1\n",
    "\n",
    "> 복잡한 자료구조의 (2차원 리스트) 반복문"
   ]
  },
  {
   "cell_type": "markdown",
   "metadata": {},
   "source": [
    "## 복잡한 리스트의 합\n",
    "\n",
    "> 2차원 리스트를 반복하는 방법을 알아봅시다. \n",
    "\n",
    "\n",
    "* 주어진 아래의 리스트를 반복하여 숫자의 합을 반환하시오.\n",
    "\n",
    "---\n",
    "**예시 입력**\n",
    "\n",
    "```python\n",
    "numbers = [\n",
    "    [1, 4],\n",
    "    [10, 5],\n",
    "    [20, 30]    \n",
    "]\n",
    "\n",
    "```\n",
    "\n",
    "**예시 출력**\n",
    "```python\n",
    "sum_list([[1, 4], [10, 5], [20, 30]]) # 70\n",
    "```"
   ]
  },
  {
   "cell_type": "markdown",
   "metadata": {},
   "source": [
    "### for 문을 활용하여 풀이하기\n",
    "\n",
    "```python\n",
    "for element in list:\n",
    "```"
   ]
  },
  {
   "cell_type": "code",
   "execution_count": 23,
   "metadata": {},
   "outputs": [
    {
     "name": "stdout",
     "output_type": "stream",
     "text": [
      "90\n"
     ]
    }
   ],
   "source": [
    "def sum_list(numbers):\n",
    "    sum1=0\n",
    "    sum2=0\n",
    "    cnt=0\n",
    "    \n",
    "    for num in numbers:\n",
    "        for num2 in num:\n",
    "            sum1+=num2\n",
    "    return sum1\n",
    "        \n",
    "        \n",
    "print(sum_list([[1, 4], [10, 5], [20, 50]]))  \n"
   ]
  },
  {
   "cell_type": "code",
   "execution_count": 18,
   "metadata": {},
   "outputs": [
    {
     "ename": "TypeError",
     "evalue": "'int' object is not iterable",
     "output_type": "error",
     "traceback": [
      "\u001b[1;31m---------------------------------------------------------------------------\u001b[0m",
      "\u001b[1;31mTypeError\u001b[0m                                 Traceback (most recent call last)",
      "Input \u001b[1;32mIn [18]\u001b[0m, in \u001b[0;36m<module>\u001b[1;34m\u001b[0m\n\u001b[1;32m----> 1\u001b[0m \u001b[38;5;28mprint\u001b[39m(\u001b[43msum_list\u001b[49m\u001b[43m(\u001b[49m\u001b[43m[\u001b[49m\u001b[43m[\u001b[49m\u001b[38;5;241;43m1\u001b[39;49m\u001b[43m,\u001b[49m\u001b[43m \u001b[49m\u001b[38;5;241;43m4\u001b[39;49m\u001b[43m]\u001b[49m\u001b[43m,\u001b[49m\u001b[43m \u001b[49m\u001b[43m[\u001b[49m\u001b[38;5;241;43m10\u001b[39;49m\u001b[43m,\u001b[49m\u001b[43m \u001b[49m\u001b[38;5;241;43m5\u001b[39;49m\u001b[43m]\u001b[49m\u001b[43m,\u001b[49m\u001b[43m \u001b[49m\u001b[43m[\u001b[49m\u001b[38;5;241;43m20\u001b[39;49m\u001b[43m,\u001b[49m\u001b[43m \u001b[49m\u001b[38;5;241;43m30\u001b[39;49m\u001b[43m]\u001b[49m\u001b[43m]\u001b[49m\u001b[43m)\u001b[49m)\n",
      "Input \u001b[1;32mIn [17]\u001b[0m, in \u001b[0;36msum_list\u001b[1;34m(numbers)\u001b[0m\n\u001b[0;32m      4\u001b[0m sum2\u001b[38;5;241m=\u001b[39m\u001b[38;5;241m0\u001b[39m\n\u001b[0;32m      5\u001b[0m \u001b[38;5;28;01mfor\u001b[39;00m i \u001b[38;5;129;01min\u001b[39;00m \u001b[38;5;28mrange\u001b[39m(\u001b[38;5;28mlen\u001b[39m(numbers)):\n\u001b[1;32m----> 6\u001b[0m     \u001b[38;5;28;01mfor\u001b[39;00m num \u001b[38;5;129;01min\u001b[39;00m i:\n\u001b[0;32m      7\u001b[0m         sum2 \u001b[38;5;241m+\u001b[39m\u001b[38;5;241m=\u001b[39m num\n\u001b[0;32m      8\u001b[0m         \u001b[38;5;28mprint\u001b[39m(sum2)\n",
      "\u001b[1;31mTypeError\u001b[0m: 'int' object is not iterable"
     ]
    }
   ],
   "source": [
    "print(sum_list([[1, 4], [10, 5], [20, 30]]))"
   ]
  },
  {
   "cell_type": "markdown",
   "metadata": {},
   "source": [
    "### Index로 접근하여 풀이하기\n",
    "\n",
    "```python\n",
    "for element in range(len(list)):\n",
    "```"
   ]
  },
  {
   "cell_type": "code",
   "execution_count": 24,
   "metadata": {},
   "outputs": [
    {
     "name": "stdout",
     "output_type": "stream",
     "text": [
      "90\n"
     ]
    }
   ],
   "source": [
    "# 아래에 코드를 작성하세요.\n",
    "def sum_list_index(numbers):\n",
    "    sum1=0\n",
    "    sum2=0\n",
    "    cnt=0\n",
    "    \n",
    "    for num in range(len(numbers)):\n",
    "        for i in numbers:\n",
    "            result = numbers[num][cnt+1] + numbers[num][cnt] #00 01 10 11 20 21\n",
    "        sum2 += result\n",
    "    return (sum2)\n",
    "        \n",
    "        \n",
    "print(sum_list([[1, 4], [10, 5], [20, 50]]))  \n",
    "    "
   ]
  },
  {
   "cell_type": "code",
   "execution_count": null,
   "metadata": {},
   "outputs": [],
   "source": [
    "print(sum_list_index([[1, 4], [10, 5], [20, 30]]))"
   ]
  },
  {
   "cell_type": "markdown",
   "metadata": {},
   "source": [
    "### while 문을 활용하여 풀이하기\n",
    "\n",
    "```python\n",
    "while ____:\n",
    "```"
   ]
  },
  {
   "cell_type": "code",
   "execution_count": 26,
   "metadata": {},
   "outputs": [],
   "source": [
    "## 아래에 코드를 작성하세요.\n",
    "def sum_list_while(numbers):\n",
    "    n=0\n",
    "    result=0\n",
    "    while n<len(numbers):\n",
    "        result += numbers[n][1]+numbers[n][0]\n",
    "        n+=1\n",
    "    return result\n",
    "    ##\n",
    "        "
   ]
  },
  {
   "cell_type": "code",
   "execution_count": 27,
   "metadata": {},
   "outputs": [
    {
     "ename": "UnboundLocalError",
     "evalue": "local variable 'result' referenced before assignment",
     "output_type": "error",
     "traceback": [
      "\u001b[1;31m---------------------------------------------------------------------------\u001b[0m",
      "\u001b[1;31mUnboundLocalError\u001b[0m                         Traceback (most recent call last)",
      "Input \u001b[1;32mIn [27]\u001b[0m, in \u001b[0;36m<module>\u001b[1;34m\u001b[0m\n\u001b[1;32m----> 1\u001b[0m \u001b[38;5;28mprint\u001b[39m(\u001b[43msum_list_while\u001b[49m\u001b[43m(\u001b[49m\u001b[43m[\u001b[49m\u001b[43m[\u001b[49m\u001b[38;5;241;43m1\u001b[39;49m\u001b[43m,\u001b[49m\u001b[43m \u001b[49m\u001b[38;5;241;43m4\u001b[39;49m\u001b[43m]\u001b[49m\u001b[43m,\u001b[49m\u001b[43m \u001b[49m\u001b[43m[\u001b[49m\u001b[38;5;241;43m10\u001b[39;49m\u001b[43m,\u001b[49m\u001b[43m \u001b[49m\u001b[38;5;241;43m5\u001b[39;49m\u001b[43m]\u001b[49m\u001b[43m,\u001b[49m\u001b[43m \u001b[49m\u001b[43m[\u001b[49m\u001b[38;5;241;43m20\u001b[39;49m\u001b[43m,\u001b[49m\u001b[43m \u001b[49m\u001b[38;5;241;43m30\u001b[39;49m\u001b[43m]\u001b[49m\u001b[43m]\u001b[49m\u001b[43m)\u001b[49m)\n",
      "Input \u001b[1;32mIn [26]\u001b[0m, in \u001b[0;36msum_list_while\u001b[1;34m(numbers)\u001b[0m\n\u001b[0;32m      3\u001b[0m n\u001b[38;5;241m=\u001b[39m\u001b[38;5;241m0\u001b[39m\n\u001b[0;32m      4\u001b[0m \u001b[38;5;28;01mwhile\u001b[39;00m n\u001b[38;5;241m<\u001b[39m\u001b[38;5;28mlen\u001b[39m(numbers):\n\u001b[1;32m----> 5\u001b[0m     result \u001b[38;5;241m+\u001b[39m\u001b[38;5;241m=\u001b[39m numbers[n][\u001b[38;5;241m1\u001b[39m]\u001b[38;5;241m+\u001b[39mnumbers[n][\u001b[38;5;241m0\u001b[39m]\n\u001b[0;32m      6\u001b[0m     n\u001b[38;5;241m+\u001b[39m\u001b[38;5;241m=\u001b[39m\u001b[38;5;241m1\u001b[39m\n",
      "\u001b[1;31mUnboundLocalError\u001b[0m: local variable 'result' referenced before assignment"
     ]
    }
   ],
   "source": [
    "print(sum_list_while([[1, 4], [10, 5], [20, 30]]))"
   ]
  },
  {
   "cell_type": "markdown",
   "metadata": {},
   "source": [
    "## 시험 점수\n",
    "\n",
    "> 2차원 배열\n",
    "\n",
    "\n",
    "* A반 학생들의 점수는 아래와 같고, students 리스트에 저장되어 있다.\n",
    "\n",
    "    * A학생(국어 100점, 수학 80점, 영어 100점)\n",
    "    * B학생(국어 90점, 수학 90점, 영어 60점)\n",
    "    * C학생(국어 80점, 수학 80점, 영어 80점)\n",
    "\n",
    "```python\n",
    "students = [\n",
    " [100, 80, 100],\n",
    " [90, 90, 60],\n",
    " [80, 80, 80]\n",
    "]\n",
    "```"
   ]
  },
  {
   "cell_type": "markdown",
   "metadata": {},
   "source": [
    "### 학생별 출력\n",
    "\n",
    "* 아래의 리스트를 반복하여 **학생별 총합**을 순서대로 `출력`하시오.\n",
    "\n",
    "* `sum` 함수 사용 금지\n",
    "\n",
    "---\n",
    "**예시 입력**\n",
    "\n",
    "```python\n",
    "students = [\n",
    " [100, 80, 100],\n",
    " [90, 90, 60],\n",
    " [80, 80, 80]\n",
    "]\n",
    "```\n",
    "\n",
    "**예시 출력**\n",
    "```\n",
    "280\n",
    "240\n",
    "240\n",
    "```"
   ]
  },
  {
   "cell_type": "code",
   "execution_count": null,
   "metadata": {},
   "outputs": [],
   "source": [
    "students = [\n",
    " [100, 80, 100],\n",
    " [90, 90, 60],\n",
    " [80, 80, 80]\n",
    "]"
   ]
  },
  {
   "cell_type": "code",
   "execution_count": null,
   "metadata": {},
   "outputs": [],
   "source": [
    "# 래에 풀이를 작성하세요. 함수 정의는 필요없습니다.\n",
    "\n",
    "## 아래에 코드를 작성하세요.\n",
    "students = [\n",
    " [100, 80, 100],\n",
    " [90, 90, 60],\n",
    " [80, 80, 80]\n",
    "]\n",
    "        \n",
    "for i in range(len(students)):\n",
    "    sum1=0\n",
    "    cnt=0\n",
    "    for j in range(len(students)):\n",
    "        sum1+=students[i][j]\n",
    "        cnt+=1\n",
    "    print(sum1)"
   ]
  },
  {
   "cell_type": "markdown",
   "metadata": {},
   "source": [
    "### 과목별 출력\n",
    "\n",
    "* 아래의 리스트를 반복하여 **과목별 총합**을 순서대로 `출력`하시오.\n",
    "* `sum` 함수 사용 금지\n",
    "\n",
    "---\n",
    "**예시 입력**\n",
    "\n",
    "```python\n",
    "students = [\n",
    " [100, 80, 100],\n",
    " [90, 90, 60],\n",
    " [80, 80, 80]\n",
    "]\n",
    "```\n",
    "\n",
    "**예시 출력**\n",
    "```\n",
    "270\n",
    "250\n",
    "240\n",
    "```"
   ]
  },
  {
   "cell_type": "code",
   "execution_count": null,
   "metadata": {},
   "outputs": [],
   "source": [
    "students = [\n",
    " [100, 80, 100],\n",
    " [90, 90, 60],\n",
    " [80, 80, 80]\n",
    "]"
   ]
  },
  {
   "cell_type": "code",
   "execution_count": 29,
   "metadata": {},
   "outputs": [
    {
     "name": "stdout",
     "output_type": "stream",
     "text": [
      "270\n",
      "250\n",
      "240\n"
     ]
    }
   ],
   "source": [
    "students = [\n",
    " [100, 80, 100],\n",
    " [90, 90, 60],\n",
    " [80, 80, 80]\n",
    "]\n",
    "        \n",
    "for i in range(len(students)):\n",
    "    sum1=0\n",
    "    cnt=0\n",
    "    for j in range(len(students)):\n",
    "        sum1+=students[j][i]\n",
    "        cnt+=1\n",
    "    print(sum1)#아래에 풀이를 작성하세요. 함수 정의는 필요없습니다."
   ]
  }
 ],
 "metadata": {
  "kernelspec": {
   "display_name": "Python 3 (ipykernel)",
   "language": "python",
   "name": "python3"
  },
  "language_info": {
   "codemirror_mode": {
    "name": "ipython",
    "version": 3
   },
   "file_extension": ".py",
   "mimetype": "text/x-python",
   "name": "python",
   "nbconvert_exporter": "python",
   "pygments_lexer": "ipython3",
   "version": "3.9.9"
  },
  "toc": {
   "base_numbering": 1,
   "nav_menu": {},
   "number_sections": true,
   "sideBar": true,
   "skip_h1_title": false,
   "title_cell": "Table of Contents",
   "title_sidebar": "Contents",
   "toc_cell": false,
   "toc_position": {},
   "toc_section_display": true,
   "toc_window_display": true
  }
 },
 "nbformat": 4,
 "nbformat_minor": 4
}
