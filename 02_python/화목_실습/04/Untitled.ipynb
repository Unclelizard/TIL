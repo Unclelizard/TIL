{
 "cells": [
  {
   "cell_type": "code",
   "execution_count": 6,
   "id": "6e735aff",
   "metadata": {},
   "outputs": [
    {
     "name": "stdout",
     "output_type": "stream",
     "text": [
      "<__main__.Circle object at 0x000001FE68CAF0A0>\n",
      "<bound method Circle.area of <__main__.Circle object at 0x000001FE68CAF0A0>>\n",
      "<bound method Circle.circumference of <__main__.Circle object at 0x000001FE68CAF0A0>>\n",
      "<bound method Circle.center of <__main__.Circle object at 0x000001FE68CAF0A0>>\n"
     ]
    }
   ],
   "source": [
    "class Circle:\n",
    "    pi = 3.14\n",
    "    def __init__(self, r, x, y):\n",
    "        self.r = r\n",
    "        self.x = x\n",
    "        self.y = y\n",
    "    def area(self):\n",
    "        return Circle.pi* self.r *self.r\n",
    "    def circumference(self):\n",
    "        return 2 * Circle.pi * self.r\n",
    "    def center(self):\n",
    "        return (self.x, self.y)\n",
    "a=Circle(3,2,4)\n",
    "print(a)\n",
    "print(a.area)\n",
    "print(a.circumference)\n",
    "print(a.center)"
   ]
  },
  {
   "cell_type": "code",
   "execution_count": 68,
   "id": "212e26d3",
   "metadata": {},
   "outputs": [
    {
     "name": "stdout",
     "output_type": "stream",
     "text": [
      "<__main__.point object at 0x000001FE6B4D2850>\n"
     ]
    },
    {
     "data": {
      "text/plain": [
       "4"
      ]
     },
     "execution_count": 68,
     "metadata": {},
     "output_type": "execute_result"
    }
   ],
   "source": [
    "class Point:\n",
    "    def __init__(self,x,y):\n",
    "        self.x=x\n",
    "        self.y=y\n",
    "#     def __repr__(self):\n",
    "#         return f'()\n",
    "class Rectangle:\n",
    "    def __init__(self,p1,p2):\n",
    "        self.p1=p1\n",
    "        self.p2=p2\n",
    "    #p1 -(1,3)\n",
    "    #p2- (3,1)\n",
    "    @property\n",
    "    def area(self):\n",
    "        return (self.p2.x-self.p1.x)*(self.p1.y-self.p2.y)\n",
    "#     def perimeter(self):\n",
    "#         return \n",
    "#     def square(self):\n",
    "#         if self.x==self.y:\n",
    "#             self.is_square=True\n",
    "#         else:\n",
    "#             self.is_square=False\n",
    "\n",
    "\n",
    "p1=point(1,3)\n",
    "p2=point(3,1)\n",
    "print(p1)\n",
    "r1=Rectangle(p1,p2)\n",
    "r1.area()"
   ]
  },
  {
   "cell_type": "code",
   "execution_count": null,
   "id": "b489042b",
   "metadata": {},
   "outputs": [],
   "source": []
  }
 ],
 "metadata": {
  "kernelspec": {
   "display_name": "Python 3 (ipykernel)",
   "language": "python",
   "name": "python3"
  },
  "language_info": {
   "codemirror_mode": {
    "name": "ipython",
    "version": 3
   },
   "file_extension": ".py",
   "mimetype": "text/x-python",
   "name": "python",
   "nbconvert_exporter": "python",
   "pygments_lexer": "ipython3",
   "version": "3.9.9"
  },
  "toc": {
   "base_numbering": 1,
   "nav_menu": {},
   "number_sections": true,
   "sideBar": true,
   "skip_h1_title": false,
   "title_cell": "Table of Contents",
   "title_sidebar": "Contents",
   "toc_cell": false,
   "toc_position": {},
   "toc_section_display": true,
   "toc_window_display": false
  }
 },
 "nbformat": 4,
 "nbformat_minor": 5
}
