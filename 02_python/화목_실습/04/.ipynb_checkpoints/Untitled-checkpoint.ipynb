{
 "cells": [
  {
   "cell_type": "code",
   "execution_count": 6,
   "id": "9f1e915a",
   "metadata": {},
   "outputs": [
    {
     "name": "stdout",
     "output_type": "stream",
     "text": [
      "<__main__.Circle object at 0x000001FE68CAF0A0>\n",
      "<bound method Circle.area of <__main__.Circle object at 0x000001FE68CAF0A0>>\n",
      "<bound method Circle.circumference of <__main__.Circle object at 0x000001FE68CAF0A0>>\n",
      "<bound method Circle.center of <__main__.Circle object at 0x000001FE68CAF0A0>>\n"
     ]
    }
   ],
   "source": [
    "class Circle:\n",
    "    pi = 3.14\n",
    "    def __init__(self, r, x, y):\n",
    "        self.r = r\n",
    "        self.x = x\n",
    "        self.y = y\n",
    "    def area(self):\n",
    "        return Circle.pi* self.r *self.r\n",
    "    def circumference(self):\n",
    "        return 2 * Circle.pi * self.r\n",
    "    def center(self):\n",
    "        return (self.x, self.y)\n",
    "a=Circle(3,2,4)\n",
    "print(a)\n",
    "print(a.area)\n",
    "print(a.circumference)\n",
    "print(a.center)"
   ]
  },
  {
   "cell_type": "code",
   "execution_count": 54,
   "id": "89353728",
   "metadata": {},
   "outputs": [
    {
     "name": "stdout",
     "output_type": "stream",
     "text": [
      "<__main__.point object at 0x000001FE6AB28820>\n"
     ]
    }
   ],
   "source": [
    "class Rectangle:\n",
    "    def __init__(self,x,y):\n",
    "        self.x=x\n",
    "        self.y=y\n",
    "    \n",
    "    def area(self):\n",
    "        self.get_area=2*self.x+2*self.y\n",
    "    def perimeter(self):\n",
    "        self.get_perimeter=2*(self.x+self.y)\n",
    "    def square(self):\n",
    "        if self.x==self.y:\n",
    "            self.is_square=True\n",
    "        else:\n",
    "            self.is_square=False\n",
    "\n",
    "\n",
    "\n",
    "p1=point(1,3)\n",
    "print(p1)\n"
   ]
  }
 ],
 "metadata": {
  "kernelspec": {
   "display_name": "Python 3 (ipykernel)",
   "language": "python",
   "name": "python3"
  },
  "language_info": {
   "codemirror_mode": {
    "name": "ipython",
    "version": 3
   },
   "file_extension": ".py",
   "mimetype": "text/x-python",
   "name": "python",
   "nbconvert_exporter": "python",
   "pygments_lexer": "ipython3",
   "version": "3.9.9"
  },
  "toc": {
   "base_numbering": 1,
   "nav_menu": {},
   "number_sections": true,
   "sideBar": true,
   "skip_h1_title": false,
   "title_cell": "Table of Contents",
   "title_sidebar": "Contents",
   "toc_cell": false,
   "toc_position": {},
   "toc_section_display": true,
   "toc_window_display": false
  }
 },
 "nbformat": 4,
 "nbformat_minor": 5
}
