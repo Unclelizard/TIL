{
 "cells": [
  {
   "cell_type": "code",
   "execution_count": 11,
   "id": "052bebb1",
   "metadata": {},
   "outputs": [
    {
     "data": {
      "text/plain": [
       "'bc'"
      ]
     },
     "execution_count": 11,
     "metadata": {},
     "output_type": "execute_result"
    }
   ],
   "source": [
    "'''\n",
    "input : 문자열\n",
    "output : 문자열\n",
    "'''\n",
    "def get(word):\n",
    "    q, r= divmod(len(word), 2)\n",
    "    # 홀수 \n",
    "    if r:\n",
    "        return word[q]\n",
    "    # 짝수\n",
    "    else:\n",
    "        return word[q-1:q+1]\n",
    "    \n",
    "get('abcd')  "
   ]
  },
  {
   "cell_type": "code",
   "execution_count": 8,
   "id": "66c44cd9",
   "metadata": {},
   "outputs": [
    {
     "data": {
      "text/plain": [
       "'bc'"
      ]
     },
     "execution_count": 8,
     "metadata": {},
     "output_type": "execute_result"
    }
   ],
   "source": [
    "get('abcd')"
   ]
  },
  {
   "cell_type": "code",
   "execution_count": 2,
   "id": "4d07bd90",
   "metadata": {},
   "outputs": [
    {
     "data": {
      "text/plain": [
       "'bc'"
      ]
     },
     "execution_count": 2,
     "metadata": {},
     "output_type": "execute_result"
    }
   ],
   "source": [
    "'abcd'[1:3]"
   ]
  },
  {
   "cell_type": "code",
   "execution_count": 3,
   "id": "c22c1511",
   "metadata": {},
   "outputs": [
    {
     "data": {
      "text/plain": [
       "'b'"
      ]
     },
     "execution_count": 3,
     "metadata": {},
     "output_type": "execute_result"
    }
   ],
   "source": [
    "'abc'[1]"
   ]
  },
  {
   "cell_type": "code",
   "execution_count": 4,
   "id": "cbf7fb40",
   "metadata": {
    "scrolled": true
   },
   "outputs": [
    {
     "data": {
      "text/plain": [
       "3"
      ]
     },
     "execution_count": 4,
     "metadata": {},
     "output_type": "execute_result"
    }
   ],
   "source": [
    "len('abc')"
   ]
  },
  {
   "cell_type": "code",
   "execution_count": 18,
   "id": "a23d1297",
   "metadata": {},
   "outputs": [],
   "source": [
    "'''\n",
    "input : list 한개\n",
    "output : interger (합)\n",
    "\n",
    "'''\n",
    "def list_sum(numbers):\n",
    "    result = 0\n",
    "    print(numbers) # 2. numbers는 뭐길래 이렇게 나왔지? 튜플? \n",
    "    for number in numbers:\n",
    "        print(number) # 1. 반복문이 어디까지 시행되었는지 보기 위해서\n",
    "        result += number\n",
    "    return result\n",
    "        \n",
    "    "
   ]
  },
  {
   "cell_type": "code",
   "execution_count": 19,
   "id": "43be9439",
   "metadata": {},
   "outputs": [
    {
     "name": "stdout",
     "output_type": "stream",
     "text": [
      "[1, 2, 3]\n",
      "1\n",
      "2\n",
      "3\n"
     ]
    },
    {
     "data": {
      "text/plain": [
       "6"
      ]
     },
     "execution_count": 19,
     "metadata": {},
     "output_type": "execute_result"
    }
   ],
   "source": [
    "list_sum([1, 2, 3])"
   ]
  },
  {
   "cell_type": "code",
   "execution_count": 22,
   "id": "e11124a8",
   "metadata": {},
   "outputs": [],
   "source": [
    "'''\n",
    "input : 리스트 (딕셔너리들로 이뤄짐)\n",
    "output : 숫자 (나이 합)\n",
    "'''\n",
    "def dict_list_sum(students):\n",
    "    result = 0\n",
    "    for student in students:\n",
    "        # student <- 개별 딕셔너리\n",
    "        # 원하는 것은 student['age']\n",
    "        result += student['age']\n",
    "    return result\n",
    "    "
   ]
  },
  {
   "cell_type": "code",
   "execution_count": 23,
   "id": "cf3c7d35",
   "metadata": {},
   "outputs": [
    {
     "data": {
      "text/plain": [
       "16"
      ]
     },
     "execution_count": 23,
     "metadata": {},
     "output_type": "execute_result"
    }
   ],
   "source": [
    "dict_list_sum([{'name': 'kim', 'age': 12}, {'name': 'lee', 'age': 4}])"
   ]
  },
  {
   "cell_type": "code",
   "execution_count": null,
   "id": "111ed066",
   "metadata": {},
   "outputs": [],
   "source": [
    "'''\n",
    "input : 리스트 (리스트로 구성된)\n",
    "output : 합\n",
    "'''"
   ]
  },
  {
   "cell_type": "code",
   "execution_count": 24,
   "id": "c51de1dd",
   "metadata": {},
   "outputs": [],
   "source": [
    "def all_list_sum(lists):\n",
    "    result = 0\n",
    "    for l in lists:\n",
    "        # l : 개별 리스트 \n",
    "        for number in l:\n",
    "            # number : 개별 숫자\n",
    "            result += number\n",
    "    return result"
   ]
  },
  {
   "cell_type": "code",
   "execution_count": 25,
   "id": "3a7566f0",
   "metadata": {},
   "outputs": [
    {
     "data": {
      "text/plain": [
       "11"
      ]
     },
     "execution_count": 25,
     "metadata": {},
     "output_type": "execute_result"
    }
   ],
   "source": [
    "all_list_sum([[0], [1, 2, 3], [], [5]])"
   ]
  },
  {
   "cell_type": "code",
   "execution_count": 28,
   "id": "ea11ab69",
   "metadata": {},
   "outputs": [
    {
     "data": {
      "text/plain": [
       "1"
      ]
     },
     "execution_count": 28,
     "metadata": {},
     "output_type": "execute_result"
    }
   ],
   "source": [
    "def all_list_sum(lst):\n",
    "    res = 0\n",
    "    for i in lst:\n",
    "        if type(i) == list:\n",
    "            res += all_list_sum(i)\n",
    "        else:\n",
    "            res += i\n",
    "    return res\n",
    "all_list_sum([[1]])"
   ]
  }
 ],
 "metadata": {
  "kernelspec": {
   "display_name": "Python 3 (ipykernel)",
   "language": "python",
   "name": "python3"
  },
  "language_info": {
   "codemirror_mode": {
    "name": "ipython",
    "version": 3
   },
   "file_extension": ".py",
   "mimetype": "text/x-python",
   "name": "python",
   "nbconvert_exporter": "python",
   "pygments_lexer": "ipython3",
   "version": "3.9.9"
  }
 },
 "nbformat": 4,
 "nbformat_minor": 5
}
