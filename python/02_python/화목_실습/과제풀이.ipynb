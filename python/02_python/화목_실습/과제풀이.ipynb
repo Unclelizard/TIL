{
 "cells": [
  {
   "cell_type": "markdown",
   "id": "6bfd378f",
   "metadata": {},
   "source": [
    "# 01"
   ]
  },
  {
   "cell_type": "markdown",
   "id": "2dfea763",
   "metadata": {},
   "source": [
    "# 01. 예약어 \n",
    "\n",
    "False, None, True, and, as, assert, async, await, break, class, continue, def, del, elif, else, except, finally,\n",
    "for, from, global, if ,import, in, is, lambda, nonlocal, not, or, pass, raise, return, try, while, with, yield"
   ]
  },
  {
   "cell_type": "markdown",
   "id": "baa5728a",
   "metadata": {},
   "source": [
    "# 02. 실수 비교"
   ]
  },
  {
   "cell_type": "code",
   "execution_count": 1,
   "id": "fdb969be",
   "metadata": {},
   "outputs": [
    {
     "name": "stdout",
     "output_type": "stream",
     "text": [
      "True\n"
     ]
    }
   ],
   "source": [
    "import math\n",
    "num1 = 0.1 * 3\n",
    "num2 = 0.3\n",
    "print(math.isclose(num1, num2))"
   ]
  },
  {
   "cell_type": "code",
   "execution_count": 2,
   "id": "b371c24a",
   "metadata": {},
   "outputs": [
    {
     "name": "stdout",
     "output_type": "stream",
     "text": [
      "True\n"
     ]
    }
   ],
   "source": [
    "print(abs(num1 - num2) <= 1e-10)"
   ]
  },
  {
   "cell_type": "markdown",
   "id": "a22fb072",
   "metadata": {},
   "source": [
    "# 03. 이스케이프 시퀀스"
   ]
  },
  {
   "cell_type": "markdown",
   "id": "c5209b1e",
   "metadata": {},
   "source": [
    "1. 줄 바꿈 `\\n` \n",
    "2. 탭 `\\t`\n",
    "3. 백슬래시 `\\\\`"
   ]
  },
  {
   "cell_type": "markdown",
   "id": "74cd962d",
   "metadata": {},
   "source": [
    "# 04. String Interpolation"
   ]
  },
  {
   "cell_type": "code",
   "execution_count": 3,
   "id": "7eeec58a",
   "metadata": {},
   "outputs": [
    {
     "name": "stdout",
     "output_type": "stream",
     "text": [
      "안녕 철수야\n",
      "'안녕, 철수야'\n",
      "안녕, 철수야\n"
     ]
    }
   ],
   "source": [
    "name = \"철수\"\n",
    "print(\"안녕 %s야\" % name)\n",
    "print(f\"'안녕, {name}야'\")\n",
    "print('안녕, {}야'.format(name))"
   ]
  },
  {
   "cell_type": "code",
   "execution_count": 4,
   "id": "566ee7ce",
   "metadata": {},
   "outputs": [
    {
     "name": "stdout",
     "output_type": "stream",
     "text": [
      "안녕, 철수야\n"
     ]
    }
   ],
   "source": [
    "print('안녕, ' + name + '야')"
   ]
  },
  {
   "cell_type": "markdown",
   "id": "96a1a545",
   "metadata": {},
   "source": [
    "# 05. 형 변환"
   ]
  },
  {
   "cell_type": "code",
   "execution_count": 5,
   "id": "04172eba",
   "metadata": {},
   "outputs": [
    {
     "ename": "ValueError",
     "evalue": "invalid literal for int() with base 10: '3.5'",
     "output_type": "error",
     "traceback": [
      "\u001b[1;31m---------------------------------------------------------------------------\u001b[0m",
      "\u001b[1;31mValueError\u001b[0m                                Traceback (most recent call last)",
      "Input \u001b[1;32mIn [5]\u001b[0m, in \u001b[0;36m<module>\u001b[1;34m\u001b[0m\n\u001b[1;32m----> 1\u001b[0m \u001b[38;5;28;43mint\u001b[39;49m\u001b[43m(\u001b[49m\u001b[38;5;124;43m'\u001b[39;49m\u001b[38;5;124;43m3.5\u001b[39;49m\u001b[38;5;124;43m'\u001b[39;49m\u001b[43m)\u001b[49m\n",
      "\u001b[1;31mValueError\u001b[0m: invalid literal for int() with base 10: '3.5'"
     ]
    }
   ],
   "source": [
    "int('3.5')"
   ]
  },
  {
   "cell_type": "markdown",
   "id": "3ba3d97f",
   "metadata": {},
   "source": [
    "# 6. 네모 출력"
   ]
  },
  {
   "cell_type": "code",
   "execution_count": 6,
   "id": "8977377d",
   "metadata": {},
   "outputs": [
    {
     "name": "stdout",
     "output_type": "stream",
     "text": [
      "*****\n",
      "*****\n",
      "*****\n",
      "*****\n",
      "*****\n",
      "*****\n",
      "*****\n",
      "*****\n",
      "*****\n",
      "\n"
     ]
    }
   ],
   "source": [
    "n = 5\n",
    "m = 9\n",
    "print(('*' * n + '\\n') * m)"
   ]
  },
  {
   "cell_type": "markdown",
   "id": "28750004",
   "metadata": {},
   "source": [
    "# 7. 이스케이스 시퀀스"
   ]
  },
  {
   "cell_type": "code",
   "execution_count": 7,
   "id": "aa970743",
   "metadata": {},
   "outputs": [
    {
     "name": "stdout",
     "output_type": "stream",
     "text": [
      "\"파일은 c:\\Windows\\Users\\내문서\\Python에 저장이 되었습니다.\" 나는 생각했다. 'cd를 써서 git bash로 들어가 봐야지.\"\n"
     ]
    }
   ],
   "source": [
    "print(\"\\\"파일은 c:\\\\Windows\\\\Users\\\\내문서\\\\Python에 저장이 되었습니다.\\\" 나는 생각했다. \\'cd를 써서 git bash로 들어가 봐야지.\\\"\")"
   ]
  },
  {
   "cell_type": "markdown",
   "id": "d82a736c",
   "metadata": {},
   "source": [
    "# 8. 근의 공식 \n",
    "(연산자 우선순위)"
   ]
  },
  {
   "cell_type": "code",
   "execution_count": 8,
   "id": "095c0872",
   "metadata": {},
   "outputs": [
    {
     "ename": "NameError",
     "evalue": "name 'b' is not defined",
     "output_type": "error",
     "traceback": [
      "\u001b[1;31m---------------------------------------------------------------------------\u001b[0m",
      "\u001b[1;31mNameError\u001b[0m                                 Traceback (most recent call last)",
      "Input \u001b[1;32mIn [8]\u001b[0m, in \u001b[0;36m<module>\u001b[1;34m\u001b[0m\n\u001b[1;32m----> 1\u001b[0m (\u001b[38;5;241m-\u001b[39m\u001b[43mb\u001b[49m \u001b[38;5;241m+\u001b[39m (b\u001b[38;5;241m*\u001b[39m\u001b[38;5;241m*\u001b[39m\u001b[38;5;241m2\u001b[39m \u001b[38;5;241m-\u001b[39m \u001b[38;5;241m4\u001b[39m\u001b[38;5;241m*\u001b[39ma\u001b[38;5;241m*\u001b[39mc)\u001b[38;5;241m*\u001b[39m\u001b[38;5;241m*\u001b[39m(\u001b[38;5;241m0.5\u001b[39m)) \u001b[38;5;241m/\u001b[39m (\u001b[38;5;241m2\u001b[39m\u001b[38;5;241m*\u001b[39ma)\n",
      "\u001b[1;31mNameError\u001b[0m: name 'b' is not defined"
     ]
    }
   ],
   "source": [
    "(-b + (b**2 - 4*a*c)**(0.5)) / (2*a)\n",
    "(-b - (b**2 - 4*a*c)**(0.5)) / (2*a)"
   ]
  },
  {
   "cell_type": "markdown",
   "id": "46c642c6",
   "metadata": {},
   "source": [
    "# 02."
   ]
  },
  {
   "cell_type": "markdown",
   "id": "9e304dd2",
   "metadata": {},
   "source": [
    "## 01.\n",
    "\n",
    "* 변경 가능한 (mutable) : List, Set, Dictionary\n",
    "* 변경 불가능한 (immutable) : String, Tuple, Range"
   ]
  },
  {
   "cell_type": "code",
   "execution_count": 10,
   "id": "5819ae94",
   "metadata": {},
   "outputs": [
    {
     "data": {
      "text/plain": [
       "['1', 2, 3]"
      ]
     },
     "execution_count": 10,
     "metadata": {},
     "output_type": "execute_result"
    }
   ],
   "source": [
    "a = [1, 2, 3]\n",
    "a[0] = '1'\n",
    "a"
   ]
  },
  {
   "cell_type": "code",
   "execution_count": 13,
   "id": "2b808758",
   "metadata": {
    "scrolled": true
   },
   "outputs": [
    {
     "data": {
      "text/plain": [
       "{1, 2, 3, 4}"
      ]
     },
     "execution_count": 13,
     "metadata": {},
     "output_type": "execute_result"
    }
   ],
   "source": [
    "a = {1, 2, 3}\n",
    "a.add(4)\n",
    "a"
   ]
  },
  {
   "cell_type": "code",
   "execution_count": 15,
   "id": "32bcc401",
   "metadata": {
    "scrolled": true
   },
   "outputs": [
    {
     "ename": "TypeError",
     "evalue": "'str' object does not support item assignment",
     "output_type": "error",
     "traceback": [
      "\u001b[1;31m---------------------------------------------------------------------------\u001b[0m",
      "\u001b[1;31mTypeError\u001b[0m                                 Traceback (most recent call last)",
      "Input \u001b[1;32mIn [15]\u001b[0m, in \u001b[0;36m<module>\u001b[1;34m\u001b[0m\n\u001b[0;32m      1\u001b[0m a \u001b[38;5;241m=\u001b[39m \u001b[38;5;124m'\u001b[39m\u001b[38;5;124mstring\u001b[39m\u001b[38;5;124m'\u001b[39m\n\u001b[1;32m----> 2\u001b[0m a[\u001b[38;5;241m0\u001b[39m] \u001b[38;5;241m=\u001b[39m \u001b[38;5;124m'\u001b[39m\u001b[38;5;124m1\u001b[39m\u001b[38;5;124m'\u001b[39m\n\u001b[0;32m      3\u001b[0m a\n",
      "\u001b[1;31mTypeError\u001b[0m: 'str' object does not support item assignment"
     ]
    }
   ],
   "source": [
    "a = 'string'\n",
    "a[0] = '1'\n",
    "a"
   ]
  },
  {
   "cell_type": "code",
   "execution_count": 16,
   "id": "c0a90305",
   "metadata": {
    "scrolled": true
   },
   "outputs": [
    {
     "ename": "TypeError",
     "evalue": "'tuple' object does not support item assignment",
     "output_type": "error",
     "traceback": [
      "\u001b[1;31m---------------------------------------------------------------------------\u001b[0m",
      "\u001b[1;31mTypeError\u001b[0m                                 Traceback (most recent call last)",
      "Input \u001b[1;32mIn [16]\u001b[0m, in \u001b[0;36m<module>\u001b[1;34m\u001b[0m\n\u001b[0;32m      1\u001b[0m a \u001b[38;5;241m=\u001b[39m (\u001b[38;5;241m1\u001b[39m, \u001b[38;5;241m2\u001b[39m, \u001b[38;5;241m3\u001b[39m)\n\u001b[1;32m----> 2\u001b[0m a[\u001b[38;5;241m0\u001b[39m] \u001b[38;5;241m=\u001b[39m \u001b[38;5;241m3\u001b[39m\n",
      "\u001b[1;31mTypeError\u001b[0m: 'tuple' object does not support item assignment"
     ]
    }
   ],
   "source": [
    "a = (1, 2, 3)\n",
    "a[0] = 3"
   ]
  },
  {
   "cell_type": "markdown",
   "id": "fd8f7278",
   "metadata": {},
   "source": [
    "## 02. 홀수"
   ]
  },
  {
   "cell_type": "code",
   "execution_count": 20,
   "id": "faafc33e",
   "metadata": {},
   "outputs": [
    {
     "data": {
      "text/plain": [
       "[1, 3, 5, 7, 9, 11, 13, 15, 17, 19]"
      ]
     },
     "execution_count": 20,
     "metadata": {},
     "output_type": "execute_result"
    }
   ],
   "source": [
    "list(range(1, 21, 2))"
   ]
  },
  {
   "cell_type": "code",
   "execution_count": 19,
   "id": "751f58f1",
   "metadata": {
    "scrolled": true
   },
   "outputs": [
    {
     "data": {
      "text/plain": [
       "[1, 3, 5, 7, 9, 11, 13, 15, 17, 19]"
      ]
     },
     "execution_count": 19,
     "metadata": {},
     "output_type": "execute_result"
    }
   ],
   "source": [
    "list(range(1, 21)[::2])"
   ]
  },
  {
   "cell_type": "markdown",
   "id": "b8de47f6",
   "metadata": {},
   "source": [
    "## 03. 딕셔너리 "
   ]
  },
  {
   "cell_type": "code",
   "execution_count": 21,
   "id": "23da7a67",
   "metadata": {},
   "outputs": [],
   "source": [
    "a = {\n",
    "    '홍길동': 300\n",
    "}"
   ]
  },
  {
   "cell_type": "markdown",
   "id": "33219a94",
   "metadata": {},
   "source": [
    "## 04. 반복문 네모"
   ]
  },
  {
   "cell_type": "code",
   "execution_count": 24,
   "id": "897eaede",
   "metadata": {},
   "outputs": [
    {
     "name": "stdout",
     "output_type": "stream",
     "text": [
      "*****\n",
      "*****\n",
      "*****\n",
      "*****\n",
      "*****\n",
      "*****\n",
      "*****\n",
      "*****\n",
      "*****\n"
     ]
    }
   ],
   "source": [
    "n = 5\n",
    "m = 9\n",
    "for i in range(m):\n",
    "    for j in range(n):\n",
    "        print('*',end='')\n",
    "    print('')"
   ]
  },
  {
   "cell_type": "code",
   "execution_count": 23,
   "id": "7f53520b",
   "metadata": {},
   "outputs": [
    {
     "name": "stdout",
     "output_type": "stream",
     "text": [
      "*****\n",
      "*****\n",
      "*****\n",
      "*****\n",
      "*****\n",
      "*****\n",
      "*****\n",
      "*****\n",
      "*****\n"
     ]
    }
   ],
   "source": [
    "n = 5\n",
    "m = 9\n",
    "for i in range(m):\n",
    "    print('*' * n)"
   ]
  },
  {
   "cell_type": "markdown",
   "id": "424964ba",
   "metadata": {},
   "source": [
    "# 05. 조건 표현식"
   ]
  },
  {
   "cell_type": "code",
   "execution_count": 26,
   "id": "aa9ca9d9",
   "metadata": {},
   "outputs": [
    {
     "name": "stdout",
     "output_type": "stream",
     "text": [
      "입실 가능\n"
     ]
    }
   ],
   "source": [
    "temp = 36.5\n",
    "print('입실 불가') if temp >= 37.5 else print('입실 가능')"
   ]
  },
  {
   "cell_type": "markdown",
   "id": "48353c73",
   "metadata": {},
   "source": [
    "## 06. 평균 구하기"
   ]
  },
  {
   "cell_type": "code",
   "execution_count": null,
   "id": "7c5418a1",
   "metadata": {},
   "outputs": [],
   "source": [
    "scores = [80, 89, 99, 83]\n",
    "sum=0\n",
    "for i in list(scores): \n",
    "    sum=sum+i\n",
    "print(sum/len(scores))"
   ]
  },
  {
   "cell_type": "code",
   "execution_count": null,
   "id": "d7b614ee",
   "metadata": {},
   "outputs": [],
   "source": [
    "scores = [80, 89, 99, 83]\n",
    "sum_scores = 0\n",
    "for i in range(len(scores)):\n",
    "    sum_scores += scores[i]\n",
    "print(sum_scores/len(scores))"
   ]
  },
  {
   "cell_type": "code",
   "execution_count": null,
   "id": "f6e2aa4b",
   "metadata": {},
   "outputs": [],
   "source": [
    "scores = [80, 89, 99, 83]\n",
    "sum = 0\n",
    "avg = 0\n",
    "num = 0\n",
    "for i in scores:\n",
    "    sum += i\n",
    "    num += 1\n",
    "    \n",
    "avg = sum/num\n",
    "print(avg)"
   ]
  },
  {
   "cell_type": "code",
   "execution_count": 29,
   "id": "c4ba972b",
   "metadata": {},
   "outputs": [
    {
     "name": "stdout",
     "output_type": "stream",
     "text": [
      "87.5\n"
     ]
    }
   ],
   "source": [
    "scores = [80, 89, 99, 82]\n",
    "sum = 0\n",
    "for i in scores:\n",
    "    sum += i\n",
    "print(sum/len(scores))"
   ]
  },
  {
   "cell_type": "code",
   "execution_count": 28,
   "id": "8df8e81f",
   "metadata": {},
   "outputs": [
    {
     "name": "stdout",
     "output_type": "stream",
     "text": [
      "87.5\n"
     ]
    }
   ],
   "source": [
    "scores = [80, 89, 99, 82]\n",
    "# 초기화 \n",
    "result = 0 \n",
    "count = 0\n",
    "for score in scores:\n",
    "    # 하나씩 꺼내준 것을 더하고 (score)\n",
    "    # 1씩 더하고 \n",
    "    result = result + score\n",
    "    count = count + 1\n",
    "    \n",
    "print(result/count)"
   ]
  },
  {
   "cell_type": "code",
   "execution_count": null,
   "id": "d680ffc4",
   "metadata": {},
   "outputs": [],
   "source": []
  },
  {
   "cell_type": "code",
   "execution_count": null,
   "id": "e26ddcc5",
   "metadata": {},
   "outputs": [],
   "source": []
  },
  {
   "cell_type": "code",
   "execution_count": null,
   "id": "6e18e9b3",
   "metadata": {},
   "outputs": [],
   "source": []
  },
  {
   "cell_type": "code",
   "execution_count": null,
   "id": "4b111764",
   "metadata": {},
   "outputs": [],
   "source": []
  }
 ],
 "metadata": {
  "kernelspec": {
   "display_name": "Python 3 (ipykernel)",
   "language": "python",
   "name": "python3"
  },
  "language_info": {
   "codemirror_mode": {
    "name": "ipython",
    "version": 3
   },
   "file_extension": ".py",
   "mimetype": "text/x-python",
   "name": "python",
   "nbconvert_exporter": "python",
   "pygments_lexer": "ipython3",
   "version": "3.9.9"
  }
 },
 "nbformat": 4,
 "nbformat_minor": 5
}
